{
 "cells": [
  {
   "cell_type": "markdown",
   "id": "6308a565",
   "metadata": {},
   "source": [
    "# Importações"
   ]
  },
  {
   "cell_type": "code",
   "execution_count": 2,
   "id": "46e6ac08",
   "metadata": {},
   "outputs": [],
   "source": [
    "import json \n",
    "import csv"
   ]
  },
  {
   "cell_type": "markdown",
   "id": "758661ef",
   "metadata": {},
   "source": [
    "# Lendo os dados"
   ]
  },
  {
   "cell_type": "code",
   "execution_count": 3,
   "id": "524b5e95",
   "metadata": {},
   "outputs": [],
   "source": [
    "path_json = '../raw-data/dados_empresaA.json'\n",
    "path_csv = '../raw-data/dados_empresaB.csv'"
   ]
  },
  {
   "cell_type": "code",
   "execution_count": 4,
   "id": "89575a43",
   "metadata": {},
   "outputs": [],
   "source": [
    "'''\n",
    "Abro o arquivo em modo leitura e uso o módulo json para evitar \n",
    "que os dados sejam tratados apenas como uma string simples.\n",
    "'''\n",
    "with open(path_json, 'r') as file:\n",
    "    dados_A = json.load(file)"
   ]
  },
  {
   "cell_type": "code",
   "execution_count": 5,
   "id": "83f9ed97",
   "metadata": {},
   "outputs": [
    {
     "data": {
      "text/plain": [
       "{'Nome do Produto': 'Blush em pó',\n",
       " 'Categoria do Produto': 'Eletrodomésticos',\n",
       " 'Preço do Produto (R$)': 79.41,\n",
       " 'Quantidade em Estoque': 7,\n",
       " 'Filial': 'Filial 7'}"
      ]
     },
     "execution_count": 5,
     "metadata": {},
     "output_type": "execute_result"
    }
   ],
   "source": [
    "# Imprimo para mostrar que funcionou\n",
    "\n",
    "dados_A[0]"
   ]
  },
  {
   "cell_type": "code",
   "execution_count": 6,
   "id": "4cdc4e78",
   "metadata": {},
   "outputs": [
    {
     "name": "stdout",
     "output_type": "stream",
     "text": [
      "O dataset da empresa A é um <class 'list'> de <class 'dict'>\n"
     ]
    }
   ],
   "source": [
    "# Verifico os tipos dos dados\n",
    "\n",
    "print(f\"O dataset da empresa A é um {str(type(dados_A))} de {str(type(dados_A[0]))}\")"
   ]
  },
  {
   "cell_type": "code",
   "execution_count": 7,
   "id": "b4c56eca",
   "metadata": {},
   "outputs": [],
   "source": [
    "# Inicializado uma lista vazia  para os dados da empresa B\n",
    "\n",
    "dados_B_raw = []\n",
    "\n",
    "with open(path_csv, 'r') as file:\n",
    "    ''' \n",
    "    Crio um iterável que percorre cada linha do csv, \n",
    "    separando os valores com base no delimitador vírgula\n",
    "    '''\n",
    "    spamreader = csv.reader(file, delimiter=',') \n",
    "\n",
    "    for row in spamreader: # Percorro cada linha e a adicono na lista\n",
    "        dados_B_raw.append(row)"
   ]
  },
  {
   "cell_type": "code",
   "execution_count": 8,
   "id": "9c76f687",
   "metadata": {},
   "outputs": [
    {
     "data": {
      "text/plain": [
       "['Nome do Item',\n",
       " 'Classificação do Produto',\n",
       " 'Valor em Reais (R$)',\n",
       " 'Quantidade em Estoque',\n",
       " 'Nome da Loja',\n",
       " 'Data da Venda']"
      ]
     },
     "execution_count": 8,
     "metadata": {},
     "output_type": "execute_result"
    }
   ],
   "source": [
    "# Imprimo para mostrar que funcionou\n",
    "\n",
    "(dados_B_raw[0])"
   ]
  },
  {
   "cell_type": "code",
   "execution_count": 9,
   "id": "a24a0af6",
   "metadata": {},
   "outputs": [
    {
     "name": "stdout",
     "output_type": "stream",
     "text": [
      "O dataset da empresa B é um <class 'list'> de <class 'list'>\n"
     ]
    }
   ],
   "source": [
    "# Verifico os tipos dos dados\n",
    "\n",
    "print(f\"O dataset da empresa B é um {str(type(dados_B_raw))} de {str(type(dados_B_raw[0]))}\")"
   ]
  },
  {
   "cell_type": "markdown",
   "id": "6d1deda0",
   "metadata": {},
   "source": [
    "Agora, o **dados_A** é uma lista de dicionários, enquanto o **dados_B** é uma lista de listas. Como quero unir os dois conjuntos de dados, preciso transformar dados_B em uma lista de dicionários também. A decisão de adaptar dados_B ao formato de dados_A se dá pois os dicionários permitem acesso direto aos dados por meio de chaves nomeadas, o que torna o processamento, a leitura e a manipulação mais claros e eficientes."
   ]
  },
  {
   "cell_type": "code",
   "execution_count": 10,
   "id": "0ceefa94",
   "metadata": {},
   "outputs": [],
   "source": [
    "'''\n",
    "Uso o DictReader para ler o arquivo CSV como um dicionário, \n",
    "no qual cada linha é convertida em um dicionário com as chaves sendo os nomes das colunas:\n",
    "'''\n",
    "\n",
    "dados_B = []\n",
    "with open(path_csv, 'r') as file:\n",
    "    spamreader = csv.DictReader(file, delimiter=',')\n",
    "    for row in spamreader:\n",
    "        dados_B.append(row)"
   ]
  },
  {
   "cell_type": "code",
   "execution_count": 11,
   "id": "f96573c7",
   "metadata": {},
   "outputs": [
    {
     "data": {
      "text/plain": [
       "{'Nome do Item': 'Lápis de sobrancelha',\n",
       " 'Classificação do Produto': 'Roupas',\n",
       " 'Valor em Reais (R$)': '55.17',\n",
       " 'Quantidade em Estoque': '62',\n",
       " 'Nome da Loja': 'Filial 1',\n",
       " 'Data da Venda': '2023-04-13 18:58:06.794203'}"
      ]
     },
     "execution_count": 11,
     "metadata": {},
     "output_type": "execute_result"
    }
   ],
   "source": [
    "# Verifico se a transformação deu certo\n",
    "\n",
    "dados_B[0]"
   ]
  },
  {
   "cell_type": "code",
   "execution_count": 12,
   "id": "203356cb",
   "metadata": {},
   "outputs": [
    {
     "name": "stdout",
     "output_type": "stream",
     "text": [
      "Na empresa A, os nomes dos campos são '['Nome do Produto', 'Categoria do Produto', 'Preço do Produto (R$)', 'Quantidade em Estoque', 'Filial']'\n",
      "Na empresa B, os nomes dos campos são '['Nome do Item', 'Classificação do Produto', 'Valor em Reais (R$)', 'Quantidade em Estoque', 'Nome da Loja', 'Data da Venda']'\n"
     ]
    }
   ],
   "source": [
    "# É possível perceber que os nomes dos campos são diferentes entre as empresas\n",
    "\n",
    "nomes_colunas_A = list(dados_A[0].keys())\n",
    "nomes_colunas_B = list(dados_B[0].keys())\n",
    "\n",
    "print(f\"Na empresa A, os nomes dos campos são '{nomes_colunas_A}'\")\n",
    "print(f\"Na empresa B, os nomes dos campos são '{nomes_colunas_B}'\")\n"
   ]
  },
  {
   "cell_type": "code",
   "execution_count": 13,
   "id": "e6e31cbc",
   "metadata": {},
   "outputs": [
    {
     "name": "stdout",
     "output_type": "stream",
     "text": [
      "Na empresa A, o nº de campos é 5\n",
      "Na empresa B, o nº de campos é 6\n"
     ]
    }
   ],
   "source": [
    "# Também é possível verificar que o nº de campos são diferentes\n",
    "\n",
    "tamanho_A = len(nomes_colunas_A)\n",
    "tamanho_B = len(nomes_colunas_B)\n",
    "\n",
    "print(f\"Na empresa A, o nº de campos é {tamanho_A}\")\n",
    "print(f\"Na empresa B, o nº de campos é {tamanho_B}\")\n"
   ]
  },
  {
   "cell_type": "code",
   "execution_count": 14,
   "id": "54a117f2",
   "metadata": {},
   "outputs": [],
   "source": [
    "'''\n",
    "Para padronizar os nomes, vou substituir os da empresa B pelos campos\n",
    "da empresa A:\n",
    "'''\n",
    "\n",
    "relation_BA = {\n",
    "    'Nome do Item': 'Nome do Produto', \n",
    "    'Classificação do Produto': 'Categoria do Produto', \n",
    "    'Valor em Reais (R$)': 'Preço do Produto (R$)', \n",
    "    'Quantidade em Estoque': 'Quantidade em Estoque', \n",
    "    'Nome da Loja': 'Filial',\n",
    "    'Data da Venda': 'Data da Venda'\n",
    "}\n",
    "\n",
    "renamed_dados_B = []\n",
    "\n",
    "for dict in dados_B:\n",
    "    new_dict = {}\n",
    "    for key, value in dict.items():\n",
    "        new_dict[relation_BA[key]] = value\n",
    "    renamed_dados_B.append(new_dict)\n",
    "        "
   ]
  },
  {
   "cell_type": "code",
   "execution_count": 15,
   "id": "ea92f954",
   "metadata": {},
   "outputs": [],
   "source": [
    "# Versão do código acima em List Comprehension:\n",
    "renamed_dados_B = []\n",
    "renamed_dados_B = [{relation_BA.get(old_key): value for old_key, value in old_dict.items()} for old_dict in dados_B]"
   ]
  },
  {
   "cell_type": "code",
   "execution_count": 16,
   "id": "2de8439e",
   "metadata": {},
   "outputs": [
    {
     "name": "stdout",
     "output_type": "stream",
     "text": [
      "{'Nome do Item': 'Lápis de sobrancelha', 'Classificação do Produto': 'Roupas', 'Valor em Reais (R$)': '55.17', 'Quantidade em Estoque': '62', 'Nome da Loja': 'Filial 1', 'Data da Venda': '2023-04-13 18:58:06.794203'}\n",
      "{'Nome do Produto': 'Lápis de sobrancelha', 'Categoria do Produto': 'Roupas', 'Preço do Produto (R$)': '55.17', 'Quantidade em Estoque': '62', 'Filial': 'Filial 1', 'Data da Venda': '2023-04-13 18:58:06.794203'}\n"
     ]
    }
   ],
   "source": [
    "# Verifico se a transformação ocorreu corretamente\n",
    "\n",
    "print(dados_B[0])\n",
    "print(renamed_dados_B[0])"
   ]
  },
  {
   "cell_type": "code",
   "execution_count": 17,
   "id": "afc9a834",
   "metadata": {},
   "outputs": [
    {
     "name": "stdout",
     "output_type": "stream",
     "text": [
      "A soma deve ser: 4446\n"
     ]
    }
   ],
   "source": [
    "'''\n",
    "O próximo passo, agora que as duas bases são listas de dicionários que \n",
    "também possuem os mesmos nomes para as chaves, é unir os dados das empresas.\n",
    "Para isso, vou conferir qual a quantidade de elementos que a soma dos dois\n",
    "conjuntos deve resultar.\n",
    "'''\n",
    "\n",
    "print(f\"A soma deve ser: {len(dados_A) + len(renamed_dados_B)}\")"
   ]
  },
  {
   "cell_type": "code",
   "execution_count": 18,
   "id": "3570e9d1",
   "metadata": {},
   "outputs": [],
   "source": [
    "# Crio uma nova variável para armazenar os dados unidos\n",
    "\n",
    "dados_AB = []\n",
    "dados_AB.extend(dados_A)\n",
    "dados_AB.extend(renamed_dados_B)"
   ]
  },
  {
   "cell_type": "code",
   "execution_count": 19,
   "id": "3b62fa5d",
   "metadata": {},
   "outputs": [
    {
     "data": {
      "text/plain": [
       "4446"
      ]
     },
     "execution_count": 19,
     "metadata": {},
     "output_type": "execute_result"
    }
   ],
   "source": [
    "# Verifico se a união ocorreu devidamente\n",
    "\n",
    "len(dados_AB)"
   ]
  },
  {
   "cell_type": "code",
   "execution_count": 23,
   "id": "7bd3bdea",
   "metadata": {},
   "outputs": [
    {
     "data": {
      "text/plain": [
       "{'Nome do Produto': 'Sombra de olhos',\n",
       " 'Categoria do Produto': 'Eletrônicos',\n",
       " 'Preço do Produto (R$)': '41.73',\n",
       " 'Quantidade em Estoque': '5',\n",
       " 'Filial': 'Filial 6',\n",
       " 'Data da Venda': '2022-11-21 18:58:06.794203'}"
      ]
     },
     "execution_count": 23,
     "metadata": {},
     "output_type": "execute_result"
    }
   ],
   "source": [
    "'''\n",
    "É possível perceber que apenas os dados da empresa B possuem o campo de 'Data da Venda'. \n",
    "'''\n",
    "\n",
    "dados_AB[-1]"
   ]
  },
  {
   "cell_type": "code",
   "execution_count": 24,
   "id": "6d21f975",
   "metadata": {},
   "outputs": [
    {
     "data": {
      "text/plain": [
       "{'Nome do Produto': 'Blush em pó',\n",
       " 'Categoria do Produto': 'Eletrodomésticos',\n",
       " 'Preço do Produto (R$)': 79.41,\n",
       " 'Quantidade em Estoque': 7,\n",
       " 'Filial': 'Filial 7'}"
      ]
     },
     "execution_count": 24,
     "metadata": {},
     "output_type": "execute_result"
    }
   ],
   "source": [
    "dados_AB[0]"
   ]
  },
  {
   "cell_type": "code",
   "execution_count": null,
   "id": "da8b6950",
   "metadata": {},
   "outputs": [],
   "source": [
    "''' \n",
    "Para garantir a padronização e evitar erros, vou incluir esse campo em todos os \n",
    "dicionários que ainda não o contêm, atribuindo a eles o valor padrão 'Indisponível'.\n",
    "Além disso, como depois eu quero exportar esses dados para um csv, eu vou\n",
    "transformar o dados_AB em uma lista de listas.\n",
    "'''"
   ]
  },
  {
   "cell_type": "code",
   "execution_count": 26,
   "id": "f8793c11",
   "metadata": {},
   "outputs": [
    {
     "data": {
      "text/plain": [
       "['Nome do Produto',\n",
       " 'Categoria do Produto',\n",
       " 'Preço do Produto (R$)',\n",
       " 'Quantidade em Estoque',\n",
       " 'Filial',\n",
       " 'Data da Venda']"
      ]
     },
     "execution_count": 26,
     "metadata": {},
     "output_type": "execute_result"
    }
   ],
   "source": [
    "nomes_colunas = list(dados_AB[-1].keys())\n",
    "nomes_colunas"
   ]
  },
  {
   "cell_type": "code",
   "execution_count": 27,
   "id": "1f84da81",
   "metadata": {},
   "outputs": [],
   "source": [
    "dados_AB_tabela = [nomes_colunas]\n",
    "\n",
    "for row in dados_AB:\n",
    "    linha = []\n",
    "    for coluna in nomes_colunas:\n",
    "        linha.append(row.get(coluna, 'Indisponível')) \n",
    "    dados_AB_tabela.append(linha)\n"
   ]
  },
  {
   "cell_type": "code",
   "execution_count": null,
   "id": "7b655989",
   "metadata": {},
   "outputs": [
    {
     "data": {
      "text/plain": [
       "['Nome do Produto',\n",
       " 'Categoria do Produto',\n",
       " 'Preço do Produto (R$)',\n",
       " 'Quantidade em Estoque',\n",
       " 'Filial',\n",
       " 'Data da Venda']"
      ]
     },
     "execution_count": 28,
     "metadata": {},
     "output_type": "execute_result"
    }
   ],
   "source": [
    "# Verifico se a transformação deu certo:\n",
    "\n",
    "dados_AB_tabela[0] # Cabeçalho"
   ]
  },
  {
   "cell_type": "code",
   "execution_count": null,
   "id": "ce589f77",
   "metadata": {},
   "outputs": [
    {
     "data": {
      "text/plain": [
       "['Blush em pó', 'Eletrodomésticos', 79.41, 7, 'Filial 7', 'Indisponível']"
      ]
     },
     "execution_count": 29,
     "metadata": {},
     "output_type": "execute_result"
    }
   ],
   "source": [
    "dados_AB_tabela[1] # Item que não tinha a coluna de 'Data da Venda'"
   ]
  },
  {
   "cell_type": "code",
   "execution_count": null,
   "id": "aab70dae",
   "metadata": {},
   "outputs": [
    {
     "data": {
      "text/plain": [
       "['Sombra de olhos',\n",
       " 'Eletrônicos',\n",
       " '41.73',\n",
       " '5',\n",
       " 'Filial 6',\n",
       " '2022-11-21 18:58:06.794203']"
      ]
     },
     "execution_count": 30,
     "metadata": {},
     "output_type": "execute_result"
    }
   ],
   "source": [
    "dados_AB_tabela[-1] # Item que tinha a coluna de 'Data da Venda'"
   ]
  },
  {
   "cell_type": "code",
   "execution_count": 31,
   "id": "fc288e43",
   "metadata": {},
   "outputs": [],
   "source": [
    "path_dadosAB = '../processed-data/dadosAB.csv'\n",
    "\n",
    "with open (path_dadosAB, 'w') as file:\n",
    "    writer = csv.writer(file)\n",
    "    writer.writerows(dados_AB_tabela)"
   ]
  }
 ],
 "metadata": {
  "kernelspec": {
   "display_name": ".venv",
   "language": "python",
   "name": "python3"
  },
  "language_info": {
   "codemirror_mode": {
    "name": "ipython",
    "version": 3
   },
   "file_extension": ".py",
   "mimetype": "text/x-python",
   "name": "python",
   "nbconvert_exporter": "python",
   "pygments_lexer": "ipython3",
   "version": "3.10.12"
  }
 },
 "nbformat": 4,
 "nbformat_minor": 5
}
