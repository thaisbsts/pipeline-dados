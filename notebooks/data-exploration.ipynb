{
 "cells": [
  {
   "cell_type": "markdown",
   "id": "6308a565",
   "metadata": {},
   "source": [
    "# Importações"
   ]
  },
  {
   "cell_type": "code",
   "execution_count": 1,
   "id": "46e6ac08",
   "metadata": {},
   "outputs": [],
   "source": [
    "import json \n",
    "import csv"
   ]
  },
  {
   "cell_type": "markdown",
   "id": "758661ef",
   "metadata": {},
   "source": [
    "# Lendo os dados"
   ]
  },
  {
   "cell_type": "code",
   "execution_count": 2,
   "id": "524b5e95",
   "metadata": {},
   "outputs": [],
   "source": [
    "path_json = '../raw-data/dados_empresaA.json'\n",
    "path_csv = '../raw-data/dados_empresaB.csv'"
   ]
  },
  {
   "cell_type": "code",
   "execution_count": 3,
   "id": "89575a43",
   "metadata": {},
   "outputs": [],
   "source": [
    "'''\n",
    "Abro o arquivo em modo leitura e uso o módulo json para evitar \n",
    "que os dados sejam tratados apenas como uma string simples.\n",
    "'''\n",
    "with open(path_json, 'r') as file:\n",
    "    dados_A = json.load(file)"
   ]
  },
  {
   "cell_type": "code",
   "execution_count": 4,
   "id": "83f9ed97",
   "metadata": {},
   "outputs": [
    {
     "data": {
      "text/plain": [
       "{'Nome do Produto': 'Blush em pó',\n",
       " 'Categoria do Produto': 'Eletrodomésticos',\n",
       " 'Preço do Produto (R$)': 79.41,\n",
       " 'Quantidade em Estoque': 7,\n",
       " 'Filial': 'Filial 7'}"
      ]
     },
     "execution_count": 4,
     "metadata": {},
     "output_type": "execute_result"
    }
   ],
   "source": [
    "# Imprimo para mostrar que funcionou\n",
    "\n",
    "dados_A[0]"
   ]
  },
  {
   "cell_type": "code",
   "execution_count": 5,
   "id": "4cdc4e78",
   "metadata": {},
   "outputs": [
    {
     "name": "stdout",
     "output_type": "stream",
     "text": [
      "O dataset da empresa A é um <class 'list'> de <class 'dict'>\n"
     ]
    }
   ],
   "source": [
    "# Verifico os tipos dos dados\n",
    "\n",
    "print(f\"O dataset da empresa A é um {str(type(dados_A))} de {str(type(dados_A[0]))}\")"
   ]
  },
  {
   "cell_type": "code",
   "execution_count": null,
   "id": "b4c56eca",
   "metadata": {},
   "outputs": [],
   "source": [
    "# Inicializado uma lista vazia  para os dados da empresa B\n",
    "\n",
    "dados_B_raw = []\n",
    "\n",
    "with open(path_csv, 'r') as file:\n",
    "    ''' \n",
    "    Crio um iterável que percorre cada linha do csv, \n",
    "    separando os valores com base no delimitador vírgula\n",
    "    '''\n",
    "    spamreader = csv.reader(file, delimiter=',') \n",
    "\n",
    "    for row in spamreader: # Percorro cada linha e a adicono na lista\n",
    "        dados_B_raw.append(row)"
   ]
  },
  {
   "cell_type": "code",
   "execution_count": null,
   "id": "9c76f687",
   "metadata": {},
   "outputs": [
    {
     "data": {
      "text/plain": [
       "['Nome do Item',\n",
       " 'Classificação do Produto',\n",
       " 'Valor em Reais (R$)',\n",
       " 'Quantidade em Estoque',\n",
       " 'Nome da Loja',\n",
       " 'Data da Venda']"
      ]
     },
     "execution_count": 7,
     "metadata": {},
     "output_type": "execute_result"
    }
   ],
   "source": [
    "# Imprimo para mostrar que funcionou\n",
    "\n",
    "(dados_B_raw[0])"
   ]
  },
  {
   "cell_type": "code",
   "execution_count": null,
   "id": "a24a0af6",
   "metadata": {},
   "outputs": [
    {
     "name": "stdout",
     "output_type": "stream",
     "text": [
      "O dataset da empresa B é um <class 'list'> de <class 'list'>\n"
     ]
    }
   ],
   "source": [
    "# Verifico os tipos dos dados\n",
    "\n",
    "print(f\"O dataset da empresa B é um {str(type(dados_B_raw))} de {str(type(dados_B_raw[0]))}\")"
   ]
  },
  {
   "cell_type": "markdown",
   "id": "6d1deda0",
   "metadata": {},
   "source": [
    "Agora, o **dados_A** é uma lista de dicionários, enquanto o **dados_B** é uma lista de listas. Como quero unir os dois conjuntos de dados, preciso transformar dados_B em uma lista de dicionários também. A decisão de adaptar dados_B ao formato de dados_A se dá pois os dicionários permitem acesso direto aos dados por meio de chaves nomeadas, o que torna o processamento, a leitura e a manipulação mais claros e eficientes."
   ]
  },
  {
   "cell_type": "code",
   "execution_count": null,
   "id": "0ceefa94",
   "metadata": {},
   "outputs": [],
   "source": [
    "'''\n",
    "Uso o DictReader para ler o arquivo CSV como um dicionário, \n",
    "no qual cada linha é convertida em um dicionário com as chaves sendo os nomes das colunas:\n",
    "'''\n",
    "\n",
    "dados_B = []\n",
    "with open(path_csv, 'r') as file:\n",
    "    spamreader = csv.DictReader(file, delimiter=',')\n",
    "    for row in spamreader:\n",
    "        dados_B.append(row)"
   ]
  }
 ],
 "metadata": {
  "kernelspec": {
   "display_name": ".venv",
   "language": "python",
   "name": "python3"
  },
  "language_info": {
   "codemirror_mode": {
    "name": "ipython",
    "version": 3
   },
   "file_extension": ".py",
   "mimetype": "text/x-python",
   "name": "python",
   "nbconvert_exporter": "python",
   "pygments_lexer": "ipython3",
   "version": "3.10.12"
  }
 },
 "nbformat": 4,
 "nbformat_minor": 5
}
